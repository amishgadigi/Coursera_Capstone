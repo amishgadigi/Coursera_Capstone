{
 "cells": [
  {
   "cell_type": "markdown",
   "metadata": {},
   "source": [
    "# Capstone Project Week 3, Part 3/3"
   ]
  },
  {
   "cell_type": "markdown",
   "metadata": {},
   "source": [
    "### Repeating steps in Part 1 \n",
    "\n",
    "Importing libs"
   ]
  },
  {
   "cell_type": "code",
   "execution_count": 2,
   "metadata": {},
   "outputs": [],
   "source": [
    "import pandas as pd\n",
    "import numpy as np\n",
    "import requests\n",
    "from bs4 import BeautifulSoup"
   ]
  },
  {
   "cell_type": "code",
   "execution_count": 3,
   "metadata": {},
   "outputs": [],
   "source": [
    "import geocoder"
   ]
  },
  {
   "cell_type": "markdown",
   "metadata": {},
   "source": [
    "Opening the Wikipedia page and creating Beautiful Soup Object."
   ]
  },
  {
   "cell_type": "code",
   "execution_count": 4,
   "metadata": {},
   "outputs": [],
   "source": [
    "webPage = requests.get(\"https://en.wikipedia.org/wiki/List_of_postal_codes_of_Canada:_M\").text\n",
    "soup = BeautifulSoup(webPage)"
   ]
  },
  {
   "cell_type": "markdown",
   "metadata": {},
   "source": [
    "Getting the tag for the required table."
   ]
  },
  {
   "cell_type": "code",
   "execution_count": 5,
   "metadata": {},
   "outputs": [],
   "source": [
    "table_tag = soup.find(\"table\", class_='wikitable')"
   ]
  },
  {
   "cell_type": "markdown",
   "metadata": {},
   "source": [
    "Extracting the table."
   ]
  },
  {
   "cell_type": "code",
   "execution_count": 6,
   "metadata": {},
   "outputs": [
    {
     "data": {
      "text/plain": [
       "[['Postcode', 'Borough', 'Neighbourhood'],\n",
       " ['M1A', 'Not assigned', 'Not assigned'],\n",
       " ['M2A', 'Not assigned', 'Not assigned'],\n",
       " ['M3A', 'North York', 'Parkwoods'],\n",
       " ['M4A', 'North York', 'Victoria Village']]"
      ]
     },
     "execution_count": 6,
     "metadata": {},
     "output_type": "execute_result"
    }
   ],
   "source": [
    "tr_tags=table_tag.find_all('tr')\n",
    "neighbourhoods=[]\n",
    "for tr_tag in tr_tags:\n",
    "    neighbourhood=[]\n",
    "    for t_tag in tr_tag.children:\n",
    "        if (t_tag.string!='\\n'):\n",
    "            texts = t_tag.text\n",
    "            if (texts[-1]=='\\n'):\n",
    "                texts = texts.rstrip('\\n')\n",
    "            neighbourhood.append(texts)\n",
    "    neighbourhoods.append(neighbourhood)\n",
    "neighbourhoods[0:5]"
   ]
  },
  {
   "cell_type": "markdown",
   "metadata": {},
   "source": [
    " \n",
    "Creating a Panda DataFrame"
   ]
  },
  {
   "cell_type": "code",
   "execution_count": 7,
   "metadata": {},
   "outputs": [
    {
     "data": {
      "text/html": [
       "<div>\n",
       "<style scoped>\n",
       "    .dataframe tbody tr th:only-of-type {\n",
       "        vertical-align: middle;\n",
       "    }\n",
       "\n",
       "    .dataframe tbody tr th {\n",
       "        vertical-align: top;\n",
       "    }\n",
       "\n",
       "    .dataframe thead th {\n",
       "        text-align: right;\n",
       "    }\n",
       "</style>\n",
       "<table border=\"1\" class=\"dataframe\">\n",
       "  <thead>\n",
       "    <tr style=\"text-align: right;\">\n",
       "      <th></th>\n",
       "      <th>Postcode</th>\n",
       "      <th>Borough</th>\n",
       "      <th>Neighbourhood</th>\n",
       "    </tr>\n",
       "  </thead>\n",
       "  <tbody>\n",
       "    <tr>\n",
       "      <th>0</th>\n",
       "      <td>M1A</td>\n",
       "      <td>Not assigned</td>\n",
       "      <td>Not assigned</td>\n",
       "    </tr>\n",
       "    <tr>\n",
       "      <th>1</th>\n",
       "      <td>M2A</td>\n",
       "      <td>Not assigned</td>\n",
       "      <td>Not assigned</td>\n",
       "    </tr>\n",
       "    <tr>\n",
       "      <th>2</th>\n",
       "      <td>M3A</td>\n",
       "      <td>North York</td>\n",
       "      <td>Parkwoods</td>\n",
       "    </tr>\n",
       "    <tr>\n",
       "      <th>3</th>\n",
       "      <td>M4A</td>\n",
       "      <td>North York</td>\n",
       "      <td>Victoria Village</td>\n",
       "    </tr>\n",
       "    <tr>\n",
       "      <th>4</th>\n",
       "      <td>M5A</td>\n",
       "      <td>Downtown Toronto</td>\n",
       "      <td>Harbourfront</td>\n",
       "    </tr>\n",
       "  </tbody>\n",
       "</table>\n",
       "</div>"
      ],
      "text/plain": [
       "  Postcode           Borough     Neighbourhood\n",
       "0      M1A      Not assigned      Not assigned\n",
       "1      M2A      Not assigned      Not assigned\n",
       "2      M3A        North York         Parkwoods\n",
       "3      M4A        North York  Victoria Village\n",
       "4      M5A  Downtown Toronto      Harbourfront"
      ]
     },
     "execution_count": 7,
     "metadata": {},
     "output_type": "execute_result"
    }
   ],
   "source": [
    "neighbourhoods_df = pd.DataFrame(neighbourhoods[1:], columns = neighbourhoods[0])\n",
    "neighbourhoods_df.head()"
   ]
  },
  {
   "cell_type": "markdown",
   "metadata": {},
   "source": [
    "Dropping rows with Borough as Not assigned"
   ]
  },
  {
   "cell_type": "code",
   "execution_count": 8,
   "metadata": {},
   "outputs": [],
   "source": [
    "neighbourhoods_df = neighbourhoods_df[neighbourhoods_df.Borough!='Not assigned']"
   ]
  },
  {
   "cell_type": "code",
   "execution_count": 9,
   "metadata": {},
   "outputs": [
    {
     "data": {
      "text/html": [
       "<div>\n",
       "<style scoped>\n",
       "    .dataframe tbody tr th:only-of-type {\n",
       "        vertical-align: middle;\n",
       "    }\n",
       "\n",
       "    .dataframe tbody tr th {\n",
       "        vertical-align: top;\n",
       "    }\n",
       "\n",
       "    .dataframe thead th {\n",
       "        text-align: right;\n",
       "    }\n",
       "</style>\n",
       "<table border=\"1\" class=\"dataframe\">\n",
       "  <thead>\n",
       "    <tr style=\"text-align: right;\">\n",
       "      <th></th>\n",
       "      <th>Postcode</th>\n",
       "      <th>Borough</th>\n",
       "      <th>Neighbourhood</th>\n",
       "    </tr>\n",
       "  </thead>\n",
       "  <tbody>\n",
       "    <tr>\n",
       "      <th>0</th>\n",
       "      <td>M3A</td>\n",
       "      <td>North York</td>\n",
       "      <td>Parkwoods</td>\n",
       "    </tr>\n",
       "    <tr>\n",
       "      <th>1</th>\n",
       "      <td>M4A</td>\n",
       "      <td>North York</td>\n",
       "      <td>Victoria Village</td>\n",
       "    </tr>\n",
       "    <tr>\n",
       "      <th>2</th>\n",
       "      <td>M5A</td>\n",
       "      <td>Downtown Toronto</td>\n",
       "      <td>Harbourfront</td>\n",
       "    </tr>\n",
       "    <tr>\n",
       "      <th>3</th>\n",
       "      <td>M5A</td>\n",
       "      <td>Downtown Toronto</td>\n",
       "      <td>Regent Park</td>\n",
       "    </tr>\n",
       "    <tr>\n",
       "      <th>4</th>\n",
       "      <td>M6A</td>\n",
       "      <td>North York</td>\n",
       "      <td>Lawrence Heights</td>\n",
       "    </tr>\n",
       "  </tbody>\n",
       "</table>\n",
       "</div>"
      ],
      "text/plain": [
       "  Postcode           Borough     Neighbourhood\n",
       "0      M3A        North York         Parkwoods\n",
       "1      M4A        North York  Victoria Village\n",
       "2      M5A  Downtown Toronto      Harbourfront\n",
       "3      M5A  Downtown Toronto       Regent Park\n",
       "4      M6A        North York  Lawrence Heights"
      ]
     },
     "execution_count": 9,
     "metadata": {},
     "output_type": "execute_result"
    }
   ],
   "source": [
    "neighbourhoods_df.reset_index(drop=True, inplace=True)\n",
    "neighbourhoods_df.head()"
   ]
  },
  {
   "cell_type": "markdown",
   "metadata": {},
   "source": [
    "Grouping Neighbourhoods into one postcodes."
   ]
  },
  {
   "cell_type": "code",
   "execution_count": 10,
   "metadata": {},
   "outputs": [],
   "source": [
    "postcode_df = neighbourhoods_df.groupby('Postcode', sort=True).agg({'Borough': lambda x: x.unique(),'Neighbourhood':lambda x: ', '.join(x)})"
   ]
  },
  {
   "cell_type": "code",
   "execution_count": 11,
   "metadata": {},
   "outputs": [
    {
     "data": {
      "text/html": [
       "<div>\n",
       "<style scoped>\n",
       "    .dataframe tbody tr th:only-of-type {\n",
       "        vertical-align: middle;\n",
       "    }\n",
       "\n",
       "    .dataframe tbody tr th {\n",
       "        vertical-align: top;\n",
       "    }\n",
       "\n",
       "    .dataframe thead th {\n",
       "        text-align: right;\n",
       "    }\n",
       "</style>\n",
       "<table border=\"1\" class=\"dataframe\">\n",
       "  <thead>\n",
       "    <tr style=\"text-align: right;\">\n",
       "      <th></th>\n",
       "      <th>Borough</th>\n",
       "      <th>Neighbourhood</th>\n",
       "    </tr>\n",
       "    <tr>\n",
       "      <th>Postcode</th>\n",
       "      <th></th>\n",
       "      <th></th>\n",
       "    </tr>\n",
       "  </thead>\n",
       "  <tbody>\n",
       "    <tr>\n",
       "      <th>M1B</th>\n",
       "      <td>Scarborough</td>\n",
       "      <td>Rouge, Malvern</td>\n",
       "    </tr>\n",
       "    <tr>\n",
       "      <th>M1C</th>\n",
       "      <td>Scarborough</td>\n",
       "      <td>Highland Creek, Rouge Hill, Port Union</td>\n",
       "    </tr>\n",
       "    <tr>\n",
       "      <th>M1E</th>\n",
       "      <td>Scarborough</td>\n",
       "      <td>Guildwood, Morningside, West Hill</td>\n",
       "    </tr>\n",
       "    <tr>\n",
       "      <th>M1G</th>\n",
       "      <td>Scarborough</td>\n",
       "      <td>Woburn</td>\n",
       "    </tr>\n",
       "    <tr>\n",
       "      <th>M1H</th>\n",
       "      <td>Scarborough</td>\n",
       "      <td>Cedarbrae</td>\n",
       "    </tr>\n",
       "  </tbody>\n",
       "</table>\n",
       "</div>"
      ],
      "text/plain": [
       "              Borough                           Neighbourhood\n",
       "Postcode                                                     \n",
       "M1B       Scarborough                          Rouge, Malvern\n",
       "M1C       Scarborough  Highland Creek, Rouge Hill, Port Union\n",
       "M1E       Scarborough       Guildwood, Morningside, West Hill\n",
       "M1G       Scarborough                                  Woburn\n",
       "M1H       Scarborough                               Cedarbrae"
      ]
     },
     "execution_count": 11,
     "metadata": {},
     "output_type": "execute_result"
    }
   ],
   "source": [
    "postcode_df.head()"
   ]
  },
  {
   "cell_type": "markdown",
   "metadata": {},
   "source": [
    "Assigning Neighbouhood names where are Not Assigned"
   ]
  },
  {
   "cell_type": "code",
   "execution_count": 12,
   "metadata": {},
   "outputs": [],
   "source": [
    "postcode_df.loc[postcode_df['Neighbourhood']=='Not assigned','Neighbourhood'] =postcode_df.loc[postcode_df['Neighbourhood']=='Not assigned','Borough']      # postcode_df.Neighbourhood=postcode_df.Borough"
   ]
  },
  {
   "cell_type": "code",
   "execution_count": 13,
   "metadata": {},
   "outputs": [
    {
     "data": {
      "text/html": [
       "<div>\n",
       "<style scoped>\n",
       "    .dataframe tbody tr th:only-of-type {\n",
       "        vertical-align: middle;\n",
       "    }\n",
       "\n",
       "    .dataframe tbody tr th {\n",
       "        vertical-align: top;\n",
       "    }\n",
       "\n",
       "    .dataframe thead th {\n",
       "        text-align: right;\n",
       "    }\n",
       "</style>\n",
       "<table border=\"1\" class=\"dataframe\">\n",
       "  <thead>\n",
       "    <tr style=\"text-align: right;\">\n",
       "      <th></th>\n",
       "      <th>Borough</th>\n",
       "      <th>Neighbourhood</th>\n",
       "    </tr>\n",
       "    <tr>\n",
       "      <th>Postcode</th>\n",
       "      <th></th>\n",
       "      <th></th>\n",
       "    </tr>\n",
       "  </thead>\n",
       "  <tbody>\n",
       "    <tr>\n",
       "      <th>M1B</th>\n",
       "      <td>Scarborough</td>\n",
       "      <td>Rouge, Malvern</td>\n",
       "    </tr>\n",
       "    <tr>\n",
       "      <th>M1C</th>\n",
       "      <td>Scarborough</td>\n",
       "      <td>Highland Creek, Rouge Hill, Port Union</td>\n",
       "    </tr>\n",
       "    <tr>\n",
       "      <th>M1E</th>\n",
       "      <td>Scarborough</td>\n",
       "      <td>Guildwood, Morningside, West Hill</td>\n",
       "    </tr>\n",
       "    <tr>\n",
       "      <th>M1G</th>\n",
       "      <td>Scarborough</td>\n",
       "      <td>Woburn</td>\n",
       "    </tr>\n",
       "    <tr>\n",
       "      <th>M1H</th>\n",
       "      <td>Scarborough</td>\n",
       "      <td>Cedarbrae</td>\n",
       "    </tr>\n",
       "  </tbody>\n",
       "</table>\n",
       "</div>"
      ],
      "text/plain": [
       "              Borough                           Neighbourhood\n",
       "Postcode                                                     \n",
       "M1B       Scarborough                          Rouge, Malvern\n",
       "M1C       Scarborough  Highland Creek, Rouge Hill, Port Union\n",
       "M1E       Scarborough       Guildwood, Morningside, West Hill\n",
       "M1G       Scarborough                                  Woburn\n",
       "M1H       Scarborough                               Cedarbrae"
      ]
     },
     "execution_count": 13,
     "metadata": {},
     "output_type": "execute_result"
    }
   ],
   "source": [
    "postcode_df.head()"
   ]
  },
  {
   "cell_type": "code",
   "execution_count": 14,
   "metadata": {},
   "outputs": [
    {
     "data": {
      "text/plain": [
       "(103, 2)"
      ]
     },
     "execution_count": 14,
     "metadata": {},
     "output_type": "execute_result"
    }
   ],
   "source": [
    "postcode_df.shape"
   ]
  },
  {
   "cell_type": "markdown",
   "metadata": {},
   "source": [
    "### Repeating Steps in Part 2"
   ]
  },
  {
   "cell_type": "markdown",
   "metadata": {},
   "source": [
    "Geocode code below which did not work"
   ]
  },
  {
   "cell_type": "code",
   "execution_count": 15,
   "metadata": {},
   "outputs": [],
   "source": [
    "#coords=[]\n",
    "#for postal_code in postcode_df.index:\n",
    "\n",
    "#    lat_lng_coords = None\n",
    "#    i=0\n",
    "#    while((lat_lng_coords is None) or (i<10)):\n",
    "#        g = geocoder.google('{}, Toronto, Ontario'.format(postal_code))\n",
    "#        lat_lng_coords = g.latlng\n",
    "#        i=i+1\n",
    "#    #latitude = lat_lng_coords[0]\n",
    "#    #longitude = lat_lng_coords[1]\n",
    "#    coords.append(lat_lng_coords)\n",
    "    \n",
    "#coords"
   ]
  },
  {
   "cell_type": "markdown",
   "metadata": {},
   "source": [
    "Reading Latitude and Longitude coordinates from the given csv"
   ]
  },
  {
   "cell_type": "code",
   "execution_count": 16,
   "metadata": {},
   "outputs": [
    {
     "data": {
      "text/html": [
       "<div>\n",
       "<style scoped>\n",
       "    .dataframe tbody tr th:only-of-type {\n",
       "        vertical-align: middle;\n",
       "    }\n",
       "\n",
       "    .dataframe tbody tr th {\n",
       "        vertical-align: top;\n",
       "    }\n",
       "\n",
       "    .dataframe thead th {\n",
       "        text-align: right;\n",
       "    }\n",
       "</style>\n",
       "<table border=\"1\" class=\"dataframe\">\n",
       "  <thead>\n",
       "    <tr style=\"text-align: right;\">\n",
       "      <th></th>\n",
       "      <th>Postal Code</th>\n",
       "      <th>Latitude</th>\n",
       "      <th>Longitude</th>\n",
       "    </tr>\n",
       "  </thead>\n",
       "  <tbody>\n",
       "    <tr>\n",
       "      <th>0</th>\n",
       "      <td>M1B</td>\n",
       "      <td>43.806686</td>\n",
       "      <td>-79.194353</td>\n",
       "    </tr>\n",
       "    <tr>\n",
       "      <th>1</th>\n",
       "      <td>M1C</td>\n",
       "      <td>43.784535</td>\n",
       "      <td>-79.160497</td>\n",
       "    </tr>\n",
       "    <tr>\n",
       "      <th>2</th>\n",
       "      <td>M1E</td>\n",
       "      <td>43.763573</td>\n",
       "      <td>-79.188711</td>\n",
       "    </tr>\n",
       "    <tr>\n",
       "      <th>3</th>\n",
       "      <td>M1G</td>\n",
       "      <td>43.770992</td>\n",
       "      <td>-79.216917</td>\n",
       "    </tr>\n",
       "    <tr>\n",
       "      <th>4</th>\n",
       "      <td>M1H</td>\n",
       "      <td>43.773136</td>\n",
       "      <td>-79.239476</td>\n",
       "    </tr>\n",
       "  </tbody>\n",
       "</table>\n",
       "</div>"
      ],
      "text/plain": [
       "  Postal Code   Latitude  Longitude\n",
       "0         M1B  43.806686 -79.194353\n",
       "1         M1C  43.784535 -79.160497\n",
       "2         M1E  43.763573 -79.188711\n",
       "3         M1G  43.770992 -79.216917\n",
       "4         M1H  43.773136 -79.239476"
      ]
     },
     "execution_count": 16,
     "metadata": {},
     "output_type": "execute_result"
    }
   ],
   "source": [
    "geo_df = pd.read_csv('Geospatial_Coordinates.csv')\n",
    "geo_df.head()"
   ]
  },
  {
   "cell_type": "markdown",
   "metadata": {},
   "source": [
    "Sorting by Postal codes so that both dataframes of Neighbourhoods and Coordinates have Postcodes in the same order."
   ]
  },
  {
   "cell_type": "code",
   "execution_count": 17,
   "metadata": {},
   "outputs": [],
   "source": [
    "geo_df.sort_values('Postal Code', inplace=True)"
   ]
  },
  {
   "cell_type": "code",
   "execution_count": 18,
   "metadata": {},
   "outputs": [
    {
     "data": {
      "text/html": [
       "<div>\n",
       "<style scoped>\n",
       "    .dataframe tbody tr th:only-of-type {\n",
       "        vertical-align: middle;\n",
       "    }\n",
       "\n",
       "    .dataframe tbody tr th {\n",
       "        vertical-align: top;\n",
       "    }\n",
       "\n",
       "    .dataframe thead th {\n",
       "        text-align: right;\n",
       "    }\n",
       "</style>\n",
       "<table border=\"1\" class=\"dataframe\">\n",
       "  <thead>\n",
       "    <tr style=\"text-align: right;\">\n",
       "      <th></th>\n",
       "      <th>Postal Code</th>\n",
       "      <th>Latitude</th>\n",
       "      <th>Longitude</th>\n",
       "    </tr>\n",
       "  </thead>\n",
       "  <tbody>\n",
       "    <tr>\n",
       "      <th>0</th>\n",
       "      <td>M1B</td>\n",
       "      <td>43.806686</td>\n",
       "      <td>-79.194353</td>\n",
       "    </tr>\n",
       "    <tr>\n",
       "      <th>1</th>\n",
       "      <td>M1C</td>\n",
       "      <td>43.784535</td>\n",
       "      <td>-79.160497</td>\n",
       "    </tr>\n",
       "    <tr>\n",
       "      <th>2</th>\n",
       "      <td>M1E</td>\n",
       "      <td>43.763573</td>\n",
       "      <td>-79.188711</td>\n",
       "    </tr>\n",
       "    <tr>\n",
       "      <th>3</th>\n",
       "      <td>M1G</td>\n",
       "      <td>43.770992</td>\n",
       "      <td>-79.216917</td>\n",
       "    </tr>\n",
       "    <tr>\n",
       "      <th>4</th>\n",
       "      <td>M1H</td>\n",
       "      <td>43.773136</td>\n",
       "      <td>-79.239476</td>\n",
       "    </tr>\n",
       "  </tbody>\n",
       "</table>\n",
       "</div>"
      ],
      "text/plain": [
       "  Postal Code   Latitude  Longitude\n",
       "0         M1B  43.806686 -79.194353\n",
       "1         M1C  43.784535 -79.160497\n",
       "2         M1E  43.763573 -79.188711\n",
       "3         M1G  43.770992 -79.216917\n",
       "4         M1H  43.773136 -79.239476"
      ]
     },
     "execution_count": 18,
     "metadata": {},
     "output_type": "execute_result"
    }
   ],
   "source": [
    "geo_df.head()"
   ]
  },
  {
   "cell_type": "code",
   "execution_count": 19,
   "metadata": {},
   "outputs": [
    {
     "data": {
      "text/plain": [
       "(103, 3)"
      ]
     },
     "execution_count": 19,
     "metadata": {},
     "output_type": "execute_result"
    }
   ],
   "source": [
    "geo_df.shape"
   ]
  },
  {
   "cell_type": "markdown",
   "metadata": {},
   "source": [
    "Combining the dataframes"
   ]
  },
  {
   "cell_type": "code",
   "execution_count": 20,
   "metadata": {},
   "outputs": [
    {
     "data": {
      "text/html": [
       "<div>\n",
       "<style scoped>\n",
       "    .dataframe tbody tr th:only-of-type {\n",
       "        vertical-align: middle;\n",
       "    }\n",
       "\n",
       "    .dataframe tbody tr th {\n",
       "        vertical-align: top;\n",
       "    }\n",
       "\n",
       "    .dataframe thead th {\n",
       "        text-align: right;\n",
       "    }\n",
       "</style>\n",
       "<table border=\"1\" class=\"dataframe\">\n",
       "  <thead>\n",
       "    <tr style=\"text-align: right;\">\n",
       "      <th></th>\n",
       "      <th>Borough</th>\n",
       "      <th>Neighbourhood</th>\n",
       "      <th>Latitude</th>\n",
       "      <th>Longitude</th>\n",
       "    </tr>\n",
       "    <tr>\n",
       "      <th>Postcode</th>\n",
       "      <th></th>\n",
       "      <th></th>\n",
       "      <th></th>\n",
       "      <th></th>\n",
       "    </tr>\n",
       "  </thead>\n",
       "  <tbody>\n",
       "    <tr>\n",
       "      <th>M1B</th>\n",
       "      <td>Scarborough</td>\n",
       "      <td>Rouge, Malvern</td>\n",
       "      <td>43.806686</td>\n",
       "      <td>-79.194353</td>\n",
       "    </tr>\n",
       "    <tr>\n",
       "      <th>M1C</th>\n",
       "      <td>Scarborough</td>\n",
       "      <td>Highland Creek, Rouge Hill, Port Union</td>\n",
       "      <td>43.784535</td>\n",
       "      <td>-79.160497</td>\n",
       "    </tr>\n",
       "    <tr>\n",
       "      <th>M1E</th>\n",
       "      <td>Scarborough</td>\n",
       "      <td>Guildwood, Morningside, West Hill</td>\n",
       "      <td>43.763573</td>\n",
       "      <td>-79.188711</td>\n",
       "    </tr>\n",
       "    <tr>\n",
       "      <th>M1G</th>\n",
       "      <td>Scarborough</td>\n",
       "      <td>Woburn</td>\n",
       "      <td>43.770992</td>\n",
       "      <td>-79.216917</td>\n",
       "    </tr>\n",
       "    <tr>\n",
       "      <th>M1H</th>\n",
       "      <td>Scarborough</td>\n",
       "      <td>Cedarbrae</td>\n",
       "      <td>43.773136</td>\n",
       "      <td>-79.239476</td>\n",
       "    </tr>\n",
       "  </tbody>\n",
       "</table>\n",
       "</div>"
      ],
      "text/plain": [
       "              Borough                           Neighbourhood   Latitude  \\\n",
       "Postcode                                                                   \n",
       "M1B       Scarborough                          Rouge, Malvern  43.806686   \n",
       "M1C       Scarborough  Highland Creek, Rouge Hill, Port Union  43.784535   \n",
       "M1E       Scarborough       Guildwood, Morningside, West Hill  43.763573   \n",
       "M1G       Scarborough                                  Woburn  43.770992   \n",
       "M1H       Scarborough                               Cedarbrae  43.773136   \n",
       "\n",
       "          Longitude  \n",
       "Postcode             \n",
       "M1B      -79.194353  \n",
       "M1C      -79.160497  \n",
       "M1E      -79.188711  \n",
       "M1G      -79.216917  \n",
       "M1H      -79.239476  "
      ]
     },
     "execution_count": 20,
     "metadata": {},
     "output_type": "execute_result"
    }
   ],
   "source": [
    "postcode_df['Latitude']=geo_df['Latitude'].values\n",
    "postcode_df['Longitude']=geo_df['Longitude'].values\n",
    "postcode_df.head()"
   ]
  },
  {
   "cell_type": "code",
   "execution_count": 21,
   "metadata": {},
   "outputs": [
    {
     "data": {
      "text/plain": [
       "(103, 4)"
      ]
     },
     "execution_count": 21,
     "metadata": {},
     "output_type": "execute_result"
    }
   ],
   "source": [
    "postcode_df.shape"
   ]
  },
  {
   "cell_type": "markdown",
   "metadata": {},
   "source": [
    "### Part 3"
   ]
  },
  {
   "cell_type": "code",
   "execution_count": 22,
   "metadata": {},
   "outputs": [],
   "source": [
    "import folium\n",
    "from sklearn.cluster import KMeans\n",
    "from geopy.geocoders import Nominatim"
   ]
  },
  {
   "cell_type": "markdown",
   "metadata": {},
   "source": [
    "Foursquare API data"
   ]
  },
  {
   "cell_type": "code",
   "execution_count": 23,
   "metadata": {},
   "outputs": [
    {
     "name": "stdout",
     "output_type": "stream",
     "text": [
      "Your credentails:\n",
      "CLIENT_ID: RINTZT52PZDA4WDXIRRRN3TMFC3NP1HDB1JEHQLOAS3XZVKV\n",
      "CLIENT_SECRET:ITVDVFQAKKWKOLFYPPDT13FWYQMK3V3ZTZR4ZLBQQ21HWWHP\n"
     ]
    }
   ],
   "source": [
    "CLIENT_ID = 'RINTZT52PZDA4WDXIRRRN3TMFC3NP1HDB1JEHQLOAS3XZVKV' # your Foursquare ID\n",
    "CLIENT_SECRET = 'ITVDVFQAKKWKOLFYPPDT13FWYQMK3V3ZTZR4ZLBQQ21HWWHP' # your Foursquare Secret\n",
    "VERSION = '20180605' # Foursquare API version\n",
    "\n",
    "print('Your credentails:')\n",
    "print('CLIENT_ID: ' + CLIENT_ID)\n",
    "print('CLIENT_SECRET:' + CLIENT_SECRET)"
   ]
  },
  {
   "cell_type": "code",
   "execution_count": 24,
   "metadata": {},
   "outputs": [],
   "source": [
    "# function that extracts the category of the venue\n",
    "def get_category_type(row):\n",
    "    try:\n",
    "        categories_list = row['categories']\n",
    "    except:\n",
    "        categories_list = row['venue.categories']\n",
    "        \n",
    "    if len(categories_list) == 0:\n",
    "        return None\n",
    "    else:\n",
    "        return categories_list[0]['name']"
   ]
  },
  {
   "cell_type": "markdown",
   "metadata": {},
   "source": [
    "Printing a map of Toronto with all the Postcodes"
   ]
  },
  {
   "cell_type": "code",
   "execution_count": 25,
   "metadata": {},
   "outputs": [
    {
     "name": "stderr",
     "output_type": "stream",
     "text": [
      "C:\\Users\\amish\\Anaconda3\\envs\\env1\\lib\\site-packages\\geopy\\geocoders\\osm.py:143: UserWarning: Using Nominatim with the default \"geopy/1.17.0\" `user_agent` is strongly discouraged, as it violates Nominatim's ToS https://operations.osmfoundation.org/policies/nominatim/ and may possibly cause 403 and 429 HTTP errors. Please specify a custom `user_agent` with `Nominatim(user_agent=\"my-application\")` or by overriding the default `user_agent`: `geopy.geocoders.options.default_user_agent = \"my-application\"`. In geopy 2.0 this will become an exception.\n",
      "  UserWarning\n"
     ]
    },
    {
     "name": "stdout",
     "output_type": "stream",
     "text": [
      "The geograpical coordinate of Toronto are 43.653963, -79.387207.\n"
     ]
    }
   ],
   "source": [
    "address = 'Toronto, ON'\n",
    "\n",
    "geolocator = Nominatim()\n",
    "location = geolocator.geocode(address)\n",
    "latitude = location.latitude\n",
    "longitude = location.longitude\n",
    "print('The geograpical coordinate of Toronto are {}, {}.'.format(latitude, longitude))"
   ]
  },
  {
   "cell_type": "code",
   "execution_count": 26,
   "metadata": {},
   "outputs": [
    {
     "data": {
      "text/html": [
       "<div style=\"width:100%;\"><div style=\"position:relative;width:100%;height:0;padding-bottom:60%;\"><iframe src=\"data:text/html;charset=utf-8;base64,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\" style=\"position:absolute;width:100%;height:100%;left:0;top:0;border:none !important;\" allowfullscreen webkitallowfullscreen mozallowfullscreen></iframe></div></div>"
      ],
      "text/plain": [
       "<folium.folium.Map at 0x18ebfef82e8>"
      ]
     },
     "execution_count": 26,
     "metadata": {},
     "output_type": "execute_result"
    }
   ],
   "source": [
    "# create map of Toronto using latitude and longitude values\n",
    "map_Toronto = folium.Map(location=[latitude, longitude], zoom_start=11)\n",
    "\n",
    "# add markers to map\n",
    "for lat, lng, label in zip(postcode_df['Latitude'], postcode_df['Longitude'], postcode_df.index.values):\n",
    "    label = folium.Popup(label, parse_html=True)\n",
    "    folium.CircleMarker(\n",
    "        [lat, lng],\n",
    "        radius=5,\n",
    "        popup=label,\n",
    "        color='blue',\n",
    "        fill=True,\n",
    "        fill_color='#3186cc',\n",
    "        fill_opacity=0.7).add_to(map_Toronto)  \n",
    "    \n",
    "map_Toronto"
   ]
  },
  {
   "cell_type": "markdown",
   "metadata": {},
   "source": [
    "Getting the top 100 venues from each of the postcodes locaations"
   ]
  },
  {
   "cell_type": "code",
   "execution_count": 29,
   "metadata": {},
   "outputs": [],
   "source": [
    "def getNearbyVenues(names, latitudes, longitudes, radius=500):\n",
    "    LIMIT=100\n",
    "    venues_list=[]\n",
    "    for name, lat, lng in zip(names, latitudes, longitudes):\n",
    "        print(name)\n",
    "            \n",
    "        # create the API request URL\n",
    "        url = 'https://api.foursquare.com/v2/venues/explore?&client_id={}&client_secret={}&v={}&ll={},{}&radius={}&limit={}'.format(\n",
    "            CLIENT_ID, \n",
    "            CLIENT_SECRET, \n",
    "            VERSION, \n",
    "            lat, \n",
    "            lng, \n",
    "            radius, \n",
    "            LIMIT)\n",
    "            \n",
    "        # make the GET request\n",
    "        results = requests.get(url).json()[\"response\"]['groups'][0]['items']\n",
    "        \n",
    "        # return only relevant information for each nearby venue\n",
    "        venues_list.append([(\n",
    "            name, \n",
    "            lat, \n",
    "            lng, \n",
    "            v['venue']['name'], \n",
    "            v['venue']['location']['lat'], \n",
    "            v['venue']['location']['lng'],  \n",
    "            v['venue']['categories'][0]['name']) for v in results])\n",
    "\n",
    "    nearby_venues = pd.DataFrame([item for venue_list in venues_list for item in venue_list])\n",
    "    nearby_venues.columns = ['Postcode', \n",
    "                  'Postcode Latitude', \n",
    "                  'Postcode Longitude', \n",
    "                  'Venue', \n",
    "                  'Venue Latitude', \n",
    "                  'Venue Longitude', \n",
    "                  'Venue Category']\n",
    "    \n",
    "    return(nearby_venues)"
   ]
  },
  {
   "cell_type": "code",
   "execution_count": 28,
   "metadata": {},
   "outputs": [
    {
     "name": "stdout",
     "output_type": "stream",
     "text": [
      "M1B\n",
      "M1C\n",
      "M1E\n",
      "M1G\n",
      "M1H\n",
      "M1J\n",
      "M1K\n",
      "M1L\n",
      "M1M\n",
      "M1N\n",
      "M1P\n",
      "M1R\n",
      "M1S\n",
      "M1T\n",
      "M1V\n",
      "M1W\n",
      "M1X\n",
      "M2H\n",
      "M2J\n",
      "M2K\n",
      "M2L\n",
      "M2M\n",
      "M2N\n",
      "M2P\n",
      "M2R\n",
      "M3A\n",
      "M3B\n",
      "M3C\n",
      "M3H\n",
      "M3J\n",
      "M3K\n",
      "M3L\n",
      "M3M\n",
      "M3N\n",
      "M4A\n",
      "M4B\n",
      "M4C\n",
      "M4E\n",
      "M4G\n",
      "M4H\n",
      "M4J\n",
      "M4K\n",
      "M4L\n",
      "M4M\n",
      "M4N\n",
      "M4P\n",
      "M4R\n",
      "M4S\n",
      "M4T\n",
      "M4V\n",
      "M4W\n",
      "M4X\n",
      "M4Y\n",
      "M5A\n",
      "M5B\n",
      "M5C\n",
      "M5E\n",
      "M5G\n",
      "M5H\n",
      "M5J\n",
      "M5K\n",
      "M5L\n",
      "M5M\n",
      "M5N\n",
      "M5P\n",
      "M5R\n",
      "M5S\n",
      "M5T\n",
      "M5V\n",
      "M5W\n",
      "M5X\n",
      "M6A\n",
      "M6B\n",
      "M6C\n",
      "M6E\n",
      "M6G\n",
      "M6H\n",
      "M6J\n",
      "M6K\n",
      "M6L\n",
      "M6M\n",
      "M6N\n",
      "M6P\n",
      "M6R\n",
      "M6S\n"
     ]
    },
    {
     "ename": "KeyError",
     "evalue": "'groups'",
     "output_type": "error",
     "traceback": [
      "\u001b[1;31m---------------------------------------------------------------------------\u001b[0m",
      "\u001b[1;31mKeyError\u001b[0m                                  Traceback (most recent call last)",
      "\u001b[1;32m<ipython-input-28-9b6d0fec58e5>\u001b[0m in \u001b[0;36m<module>\u001b[1;34m\u001b[0m\n\u001b[1;32m----> 1\u001b[1;33m \u001b[0mtoronto_venues\u001b[0m\u001b[1;33m=\u001b[0m\u001b[0mgetNearbyVenues\u001b[0m\u001b[1;33m(\u001b[0m\u001b[0mnames\u001b[0m\u001b[1;33m=\u001b[0m\u001b[0mpostcode_df\u001b[0m\u001b[1;33m.\u001b[0m\u001b[0mindex\u001b[0m\u001b[1;33m.\u001b[0m\u001b[0mvalues\u001b[0m\u001b[1;33m,\u001b[0m\u001b[0mlatitudes\u001b[0m\u001b[1;33m=\u001b[0m\u001b[0mpostcode_df\u001b[0m\u001b[1;33m[\u001b[0m\u001b[1;34m'Latitude'\u001b[0m\u001b[1;33m]\u001b[0m\u001b[1;33m,\u001b[0m\u001b[0mlongitudes\u001b[0m\u001b[1;33m=\u001b[0m\u001b[0mpostcode_df\u001b[0m\u001b[1;33m[\u001b[0m\u001b[1;34m'Longitude'\u001b[0m\u001b[1;33m]\u001b[0m\u001b[1;33m)\u001b[0m\u001b[1;33m\u001b[0m\u001b[0m\n\u001b[0m",
      "\u001b[1;32m<ipython-input-27-0f14e2e0154c>\u001b[0m in \u001b[0;36mgetNearbyVenues\u001b[1;34m(names, latitudes, longitudes, radius)\u001b[0m\n\u001b[0;32m     16\u001b[0m \u001b[1;33m\u001b[0m\u001b[0m\n\u001b[0;32m     17\u001b[0m         \u001b[1;31m# make the GET request\u001b[0m\u001b[1;33m\u001b[0m\u001b[1;33m\u001b[0m\u001b[0m\n\u001b[1;32m---> 18\u001b[1;33m         \u001b[0mresults\u001b[0m \u001b[1;33m=\u001b[0m \u001b[0mrequests\u001b[0m\u001b[1;33m.\u001b[0m\u001b[0mget\u001b[0m\u001b[1;33m(\u001b[0m\u001b[0murl\u001b[0m\u001b[1;33m)\u001b[0m\u001b[1;33m.\u001b[0m\u001b[0mjson\u001b[0m\u001b[1;33m(\u001b[0m\u001b[1;33m)\u001b[0m\u001b[1;33m[\u001b[0m\u001b[1;34m\"response\"\u001b[0m\u001b[1;33m]\u001b[0m\u001b[1;33m[\u001b[0m\u001b[1;34m'groups'\u001b[0m\u001b[1;33m]\u001b[0m\u001b[1;33m[\u001b[0m\u001b[1;36m0\u001b[0m\u001b[1;33m]\u001b[0m\u001b[1;33m[\u001b[0m\u001b[1;34m'items'\u001b[0m\u001b[1;33m]\u001b[0m\u001b[1;33m\u001b[0m\u001b[0m\n\u001b[0m\u001b[0;32m     19\u001b[0m \u001b[1;33m\u001b[0m\u001b[0m\n\u001b[0;32m     20\u001b[0m         \u001b[1;31m# return only relevant information for each nearby venue\u001b[0m\u001b[1;33m\u001b[0m\u001b[1;33m\u001b[0m\u001b[0m\n",
      "\u001b[1;31mKeyError\u001b[0m: 'groups'"
     ]
    }
   ],
   "source": [
    "toronto_venues=getNearbyVenues(names=postcode_df.index.values,latitudes=postcode_df['Latitude'],longitudes=postcode_df['Longitude'])"
   ]
  },
  {
   "cell_type": "code",
   "execution_count": null,
   "metadata": {},
   "outputs": [],
   "source": [
    "toronto_venues.shape"
   ]
  },
  {
   "cell_type": "code",
   "execution_count": null,
   "metadata": {},
   "outputs": [],
   "source": [
    "toronto_venues.groupby('Postcode').count()"
   ]
  },
  {
   "cell_type": "code",
   "execution_count": null,
   "metadata": {},
   "outputs": [],
   "source": [
    "print('There are {} uniques categories.'.format(len(toronto_venues['Venue Category'].unique())))"
   ]
  },
  {
   "cell_type": "markdown",
   "metadata": {},
   "source": [
    "These three postcodes did not give any venues M1X, M2M, M9A\n",
    "\n",
    "Now one shot encoding the venue categories."
   ]
  },
  {
   "cell_type": "code",
   "execution_count": null,
   "metadata": {},
   "outputs": [],
   "source": [
    "toronto_onehot = pd.get_dummies(toronto_venues[['Venue Category']], prefix=\"\", prefix_sep=\"\")\n",
    "toronto_onehot['Postcode'] = toronto_venues['Postcode'] \n",
    "# move neighborhood column to the first column\n",
    "fixed_columns = [toronto_onehot.columns[-1]] + list(toronto_onehot.columns[:-1])\n",
    "toronto_onehot = toronto_onehot[fixed_columns]\n",
    "\n",
    "toronto_onehot.head()"
   ]
  },
  {
   "cell_type": "code",
   "execution_count": null,
   "metadata": {},
   "outputs": [],
   "source": [
    "toronto_onehot.shape"
   ]
  },
  {
   "cell_type": "markdown",
   "metadata": {},
   "source": [
    "Taking the mean of the number of type of venues in each Postcode and normalizing them."
   ]
  },
  {
   "cell_type": "code",
   "execution_count": null,
   "metadata": {},
   "outputs": [],
   "source": [
    "toronto_grouped = toronto_onehot.groupby('Postcode').mean().reset_index()\n",
    "toronto_grouped.head()"
   ]
  },
  {
   "cell_type": "code",
   "execution_count": null,
   "metadata": {},
   "outputs": [],
   "source": [
    "toronto_grouped.shape"
   ]
  },
  {
   "cell_type": "markdown",
   "metadata": {},
   "source": [
    "Here we are going to get the top 20 most common venue types in each Postcode"
   ]
  },
  {
   "cell_type": "code",
   "execution_count": null,
   "metadata": {},
   "outputs": [],
   "source": [
    "def return_most_common_venues(row, num_top_venues):\n",
    "    row_categories = row.iloc[1:]\n",
    "    row_categories_sorted = row_categories.sort_values(ascending=False)\n",
    "    \n",
    "    return row_categories_sorted.index.values[0:num_top_venues]"
   ]
  },
  {
   "cell_type": "code",
   "execution_count": null,
   "metadata": {},
   "outputs": [],
   "source": [
    "num_top_venues = 20\n",
    "\n",
    "indicators = ['st', 'nd', 'rd']\n",
    "\n",
    "# create columns according to number of top venues\n",
    "columns = ['Postcode']\n",
    "for ind in np.arange(num_top_venues):\n",
    "    try:\n",
    "        columns.append('{}{} Most Common Venue'.format(ind+1, indicators[ind]))\n",
    "    except:\n",
    "        columns.append('{}th Most Common Venue'.format(ind+1))\n",
    "\n",
    "# create a new dataframe\n",
    "postcode_venues_sorted = pd.DataFrame(columns=columns)\n",
    "postcode_venues_sorted['Postcode'] = toronto_grouped['Postcode']\n",
    "\n",
    "for ind in np.arange(toronto_grouped.shape[0]):\n",
    "    postcode_venues_sorted.iloc[ind, 1:] = return_most_common_venues(toronto_grouped.iloc[ind, :], num_top_venues)\n",
    "\n",
    "postcode_venues_sorted.head()"
   ]
  },
  {
   "cell_type": "markdown",
   "metadata": {},
   "source": [
    "### Clustering\n",
    "\n",
    "Now let us consider making 5 clusters of the given data."
   ]
  },
  {
   "cell_type": "code",
   "execution_count": null,
   "metadata": {},
   "outputs": [],
   "source": [
    "# set number of clusters\n",
    "kclusters = 3\n",
    "\n",
    "toronto_grouped_clustering = toronto_grouped.drop('Postcode', 1)\n",
    "\n",
    "# run k-means clustering\n",
    "kmeans = KMeans(n_clusters=kclusters, random_state=0).fit(toronto_grouped_clustering)\n",
    "\n",
    "# check cluster labels generated for each row in the dataframe\n",
    "kmeans.labels_[0:10] "
   ]
  },
  {
   "cell_type": "markdown",
   "metadata": {},
   "source": [
    "Merging dataframes"
   ]
  },
  {
   "cell_type": "code",
   "execution_count": null,
   "metadata": {},
   "outputs": [],
   "source": [
    "toronto_merged = postcode_df.copy(deep=True)\n",
    "# M1X, M2M, M9A\n",
    "toronto_merged.drop(['M1X', 'M2M', 'M9A'], inplace=True)\n",
    "toronto_merged.shape"
   ]
  },
  {
   "cell_type": "code",
   "execution_count": null,
   "metadata": {},
   "outputs": [],
   "source": [
    "\n",
    "# add clustering labels\n",
    "toronto_merged['Cluster Labels'] = kmeans.labels_\n",
    "\n",
    "# merge toronto_grouped with toronto_data to add latitude/longitude for each neighborhood\n",
    "toronto_merged = toronto_merged.join(postcode_venues_sorted.set_index('Postcode'), on='Postcode')\n",
    "\n",
    "toronto_merged.head() # check the last columns!"
   ]
  },
  {
   "cell_type": "code",
   "execution_count": null,
   "metadata": {},
   "outputs": [],
   "source": [
    "import matplotlib.cm as cm\n",
    "import matplotlib.colors as colors"
   ]
  },
  {
   "cell_type": "markdown",
   "metadata": {},
   "source": [
    "Mapping the postcodes, coloured for different clusters"
   ]
  },
  {
   "cell_type": "code",
   "execution_count": null,
   "metadata": {},
   "outputs": [],
   "source": [
    "# create map\n",
    "map_clusters = folium.Map(location=[latitude, longitude], zoom_start=11)\n",
    "\n",
    "# set color scheme for the clusters\n",
    "x = np.arange(kclusters)\n",
    "ys = [i+x+(i*x)**2 for i in range(kclusters)]\n",
    "colors_array = cm.rainbow(np.linspace(0, 1, len(ys)))\n",
    "rainbow = [colors.rgb2hex(i) for i in colors_array]\n",
    "\n",
    "# add markers to the map\n",
    "markers_colors = []\n",
    "for lat, lon, poi, cluster in zip(toronto_merged['Latitude'], toronto_merged['Longitude'], toronto_merged.index.values, toronto_merged['Cluster Labels']):\n",
    "    label = folium.Popup(str(poi) + ' Cluster ' + str(cluster), parse_html=True)\n",
    "    folium.CircleMarker(\n",
    "        [lat, lon],\n",
    "        radius=5,\n",
    "        popup=label,\n",
    "        color=rainbow[cluster-1],\n",
    "        fill=True,\n",
    "        fill_color=rainbow[cluster-1],\n",
    "        fill_opacity=0.7).add_to(map_clusters)\n",
    "       \n",
    "map_clusters"
   ]
  },
  {
   "cell_type": "code",
   "execution_count": null,
   "metadata": {},
   "outputs": [],
   "source": [
    "toronto_merged.groupby('Cluster Labels').count()"
   ]
  },
  {
   "cell_type": "code",
   "execution_count": null,
   "metadata": {},
   "outputs": [],
   "source": []
  }
 ],
 "metadata": {
  "kernelspec": {
   "display_name": "Python 3",
   "language": "python",
   "name": "python3"
  },
  "language_info": {
   "codemirror_mode": {
    "name": "ipython",
    "version": 3
   },
   "file_extension": ".py",
   "mimetype": "text/x-python",
   "name": "python",
   "nbconvert_exporter": "python",
   "pygments_lexer": "ipython3",
   "version": "3.6.6"
  }
 },
 "nbformat": 4,
 "nbformat_minor": 2
}
